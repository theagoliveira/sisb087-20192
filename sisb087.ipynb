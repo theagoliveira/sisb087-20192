{
 "cells": [
  {
   "cell_type": "markdown",
   "metadata": {},
   "source": [
    "# Programação 2\n",
    "\n",
    "## Exemplo: TAD Ponto\n",
    "\n",
    "Fonte: CELES, W.; CERQUEIRA, R.; RANGEL, J. L. **Introdução a Estruturas de Dados**"
   ]
  },
  {
   "cell_type": "code",
   "execution_count": 29,
   "metadata": {},
   "outputs": [
    {
     "name": "stdout",
     "output_type": "stream",
     "text": [
      "Distância entre pontos: 1.000000\n"
     ]
    }
   ],
   "source": [
    "//%cflags:-lm\n",
    "\n",
    "#include <stdlib.h>\n",
    "#include <stdio.h>\n",
    "#include <math.h>\n",
    "\n",
    "/* ponto.c */\n",
    "\n",
    "struct ponto {\n",
    "    float x;\n",
    "    float y;\n",
    "};\n",
    "\n",
    "typedef struct ponto Ponto;\n",
    "\n",
    "Ponto* pto_cria(float x, float y) {\n",
    "    Ponto* p = (Ponto*) malloc(sizeof(Ponto));\n",
    "    if (p == NULL) {\n",
    "        printf(\"Memória insuficiente!\\n\");\n",
    "        exit(1);\n",
    "    }\n",
    "    p->x = x;\n",
    "    p->y = y;\n",
    "    return p;\n",
    "};\n",
    "\n",
    "void pto_libera(Ponto* p) {\n",
    "    free(p);\n",
    "};\n",
    "\n",
    "void pto_acessa(Ponto* p, float* x, float* y) {\n",
    "    *x = p->x;\n",
    "    *y = p->y;\n",
    "};\n",
    "\n",
    "void pto_atribui(Ponto* p, float x, float y) {\n",
    "    p->x = x;\n",
    "    p->y = y;\n",
    "};\n",
    "\n",
    "float pto_distancia(Ponto* p1, Ponto* p2) {\n",
    "    float dx = p2->x - p1->x;\n",
    "    float dy = p2->y - p1->y;\n",
    "    return sqrt(dx*dx + dy*dy);\n",
    "};\n",
    "\n",
    "int main () {\n",
    "    Ponto* p = pto_cria(2.0, 1.0);\n",
    "    Ponto* q = pto_cria(3.0, 1.0);\n",
    "    float d = pto_distancia(p, q);\n",
    "    printf(\"Distância entre pontos: %f\\n\", d);\n",
    "    pto_libera(p);\n",
    "    pto_libera(q);\n",
    "    return 0;\n",
    "}"
   ]
  }
 ],
 "metadata": {
  "celltoolbar": "Raw Cell Format",
  "kernelspec": {
   "display_name": "C",
   "language": "c",
   "name": "c"
  },
  "language_info": {
   "file_extension": ".c",
   "mimetype": "text/plain",
   "name": "c"
  }
 },
 "nbformat": 4,
 "nbformat_minor": 2
}
